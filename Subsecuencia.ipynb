{
 "cells": [
  {
   "cell_type": "code",
   "execution_count": 1,
   "metadata": {},
   "outputs": [],
   "source": [
    "cadena_1 = \"AMGXTP\"\n",
    "cadena_2 = \"AGCT\"\n",
    "\n",
    "matriz = [ [ 0 for j in range(len(cadena_1)+1) ] for i in range(len(cadena_2)+1)]\n",
    "\n",
    "cadena_1 = [token for token in cadena_1]\n",
    "cadena_2 = [token for token in cadena_2]"
   ]
  },
  {
   "cell_type": "code",
   "execution_count": 2,
   "metadata": {},
   "outputs": [],
   "source": [
    "def imprimirMatriz(matriz):\n",
    "    for fila in matriz:\n",
    "        for columna in fila:\n",
    "            print(str(columna),end=\" \")\n",
    "        print()"
   ]
  },
  {
   "cell_type": "code",
   "execution_count": 3,
   "metadata": {},
   "outputs": [],
   "source": [
    "def MAX(n1,n2):\n",
    "    if(n1==n2 or n1<n2):\n",
    "        return n2\n",
    "    else:\n",
    "        return n1"
   ]
  },
  {
   "cell_type": "code",
   "execution_count": 4,
   "metadata": {},
   "outputs": [],
   "source": [
    "fila_1 = 0; fila_2 = 1;\n",
    "\n",
    "for index_2 in range(len(cadena_2)):\n",
    "    if(fila_2<=len(cadena_2)):\n",
    "        col_1 = 1; col_2 = 0;\n",
    "        pos = 1\n",
    "        for index_1 in range(len(cadena_1)):\n",
    "            if(col_1<=len(cadena_1)):\n",
    "\n",
    "                if(cadena_1[index_1]==cadena_2[index_2]):\n",
    "                    aux = MAX(matriz[fila_1][col_1],matriz[fila_2][col_2])\n",
    "                    if( index_1>aux and index_2<aux):\n",
    "                        if(pos<=len(cadena_1)):\n",
    "                            if(fila_2<=len(cadena_2)):\n",
    "                                matriz[fila_2][pos] = aux\n",
    "                                pos+=1\n",
    "                    elif (index_2>index_1 and index_1<aux):\n",
    "                        if(pos<=len(cadena_1)):\n",
    "                            if(fila_2<=len(cadena_2)):\n",
    "                                matriz[fila_2][pos] = aux\n",
    "                                pos+=1\n",
    "                    else:\n",
    "                        if(pos<=len(cadena_1)):\n",
    "                            if(fila_2<=len(cadena_2)):\n",
    "                                matriz[fila_2][pos] = aux+1\n",
    "                                pos+=1\n",
    "                else:\n",
    "\n",
    "                    aux = MAX(matriz[fila_1][col_1],matriz[fila_2][col_2])\n",
    "                    matriz[fila_2][pos] = aux\n",
    "                    pos+=1\n",
    "\n",
    "            col_1+=1; col_2+=1\n",
    "        \n",
    "    fila_1+=1; fila_2+=1;\n",
    "                \n",
    "            "
   ]
  },
  {
   "cell_type": "code",
   "execution_count": 5,
   "metadata": {},
   "outputs": [
    {
     "name": "stdout",
     "output_type": "stream",
     "text": [
      "0 0 0 0 0 0 0 \n",
      "0 1 1 1 1 1 1 \n",
      "0 1 1 2 2 2 2 \n",
      "0 1 1 2 2 2 2 \n",
      "0 1 1 2 2 3 3 \n"
     ]
    }
   ],
   "source": [
    "imprimirMatriz(matriz)"
   ]
  },
  {
   "cell_type": "code",
   "execution_count": 6,
   "metadata": {},
   "outputs": [],
   "source": [
    "com = ''' \n",
    "    Caso 1: el numero actual es diferente a los que lo rodean\n",
    "    Caso 2: el número actual es igual a todos los que lo rodean\n",
    "    Caso 3: el número actual es distinto al de su diagonal pero igual al de su derecha\n",
    "'''\n",
    "\n",
    "def esDiferente(n1,n2,n3,n4):\n",
    "    if(n1!=n4 and n2!=n4 and n3!=n4):\n",
    "        return 1\n",
    "    elif(n1==n4 and n2==n4 and n3==n4):\n",
    "        return 2\n",
    "    elif(n3==n4 and n2!=n4):\n",
    "        return 3\n",
    "    elif(n1==n4 and n3!=n4 and n2!=n4):\n",
    "        return 4\n",
    "    else:\n",
    "        return 4\n",
    "    "
   ]
  },
  {
   "cell_type": "code",
   "execution_count": 12,
   "metadata": {},
   "outputs": [
    {
     "name": "stdout",
     "output_type": "stream",
     "text": [
      "\n",
      "AGT\n"
     ]
    }
   ],
   "source": [
    "fila_2 = len(matriz)-1; fila_1 = len(matriz)-2\n",
    "izquierdo = len(matriz[1])-2; derecho = len(matriz[1])-1\n",
    "pos = -1; subsecuencia = []\n",
    "\n",
    "while( (fila_1-1)>=-1 ):\n",
    "        n1 = matriz[fila_1][izquierdo]; n2 = matriz[fila_1][derecho]\n",
    "        n3 = matriz[fila_2][izquierdo]; n4 = matriz[fila_2][derecho]\n",
    "        opcion = esDiferente(n1,n2,n3,n4)\n",
    "        if(opcion==1):\n",
    "            subsecuencia.append(cadena_2[pos])\n",
    "            fila_2-=1; fila_1-=1;\n",
    "            izquierdo-=1; derecho-=1;\n",
    "            pos-=1\n",
    "        elif(opcion==2 or opcion==3):\n",
    "            izquierdo-=1; derecho-=1;\n",
    "        elif(opcion==4):\n",
    "            fila_1-=1; fila_2-=1\n",
    "            pos-=1;\n",
    "\n",
    "            \n",
    "print()\n",
    "print(''.join(subsecuencia[::-1]))"
   ]
  },
  {
   "cell_type": "code",
   "execution_count": 8,
   "metadata": {},
   "outputs": [
    {
     "name": "stdout",
     "output_type": "stream",
     "text": [
      "0 0 0 0 0 0 0 \n",
      "0 1 1 1 1 1 1 \n",
      "0 1 1 2 2 2 2 \n",
      "0 1 1 2 2 2 2 \n",
      "0 1 1 2 2 3 3 \n"
     ]
    }
   ],
   "source": [
    "imprimirMatriz(matriz)"
   ]
  },
  {
   "cell_type": "code",
   "execution_count": null,
   "metadata": {},
   "outputs": [],
   "source": []
  }
 ],
 "metadata": {
  "kernelspec": {
   "display_name": "Python 3",
   "language": "python",
   "name": "python3"
  },
  "language_info": {
   "codemirror_mode": {
    "name": "ipython",
    "version": 3
   },
   "file_extension": ".py",
   "mimetype": "text/x-python",
   "name": "python",
   "nbconvert_exporter": "python",
   "pygments_lexer": "ipython3",
   "version": "3.7.1"
  }
 },
 "nbformat": 4,
 "nbformat_minor": 2
}
