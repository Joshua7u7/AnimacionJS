{
 "cells": [
  {
   "cell_type": "code",
   "execution_count": 16,
   "metadata": {},
   "outputs": [],
   "source": [
    "cadena_1 = \"Hola python\"\n",
    "cadena_2 = \"Hola\"\n",
    "\n",
    "matriz = [ [ 0 for j in range(len(cadena_1)) ] for i in range(len(cadena_2))]\n",
    "\n",
    "cadena_1 = [token for token in cadena_1]\n",
    "cadena_2 = [token for token in cadena_2]"
   ]
  },
  {
   "cell_type": "code",
   "execution_count": 18,
   "metadata": {},
   "outputs": [
    {
     "name": "stdout",
     "output_type": "stream",
     "text": [
      "0 0 0 0 0 0 0 0 0 0 0 \n",
      "0 0 0 0 0 0 0 0 0 0 0 \n",
      "0 0 0 0 0 0 0 0 0 0 0 \n",
      "0 0 0 0 0 0 0 0 0 0 0 \n"
     ]
    }
   ],
   "source": [
    "def imprimirMatriz(matriz):\n",
    "    for fila in matriz:\n",
    "        for columna in fila:\n",
    "            print(str(columna),end=\" \")\n",
    "        print()"
   ]
  },
  {
   "cell_type": "code",
   "execution_count": 19,
   "metadata": {},
   "outputs": [],
   "source": [
    "def MAX(n1,n2):\n",
    "    if(n1==n2 or n1<n2):\n",
    "        return n2\n",
    "    else:\n",
    "        return n1"
   ]
  },
  {
   "cell_type": "code",
   "execution_count": 25,
   "metadata": {},
   "outputs": [
    {
     "ename": "IndexError",
     "evalue": "list index out of range",
     "output_type": "error",
     "traceback": [
      "\u001b[1;31m---------------------------------------------------------------------------\u001b[0m",
      "\u001b[1;31mIndexError\u001b[0m                                Traceback (most recent call last)",
      "\u001b[1;32m<ipython-input-25-ad7dbbeda7e9>\u001b[0m in \u001b[0;36m<module>\u001b[1;34m\u001b[0m\n\u001b[0;32m     30\u001b[0m         \u001b[1;32melse\u001b[0m\u001b[1;33m:\u001b[0m\u001b[1;33m\u001b[0m\u001b[1;33m\u001b[0m\u001b[0m\n\u001b[0;32m     31\u001b[0m \u001b[1;33m\u001b[0m\u001b[0m\n\u001b[1;32m---> 32\u001b[1;33m             \u001b[0maux\u001b[0m \u001b[1;33m=\u001b[0m \u001b[0mMAX\u001b[0m\u001b[1;33m(\u001b[0m\u001b[0mmatriz\u001b[0m\u001b[1;33m[\u001b[0m\u001b[0mfila_1\u001b[0m\u001b[1;33m]\u001b[0m\u001b[1;33m[\u001b[0m\u001b[0mcol_1\u001b[0m\u001b[1;33m]\u001b[0m\u001b[1;33m,\u001b[0m\u001b[0mmatriz\u001b[0m\u001b[1;33m[\u001b[0m\u001b[0mfila_2\u001b[0m\u001b[1;33m]\u001b[0m\u001b[1;33m[\u001b[0m\u001b[0mcol_2\u001b[0m\u001b[1;33m]\u001b[0m\u001b[1;33m)\u001b[0m\u001b[1;33m\u001b[0m\u001b[1;33m\u001b[0m\u001b[0m\n\u001b[0m\u001b[0;32m     33\u001b[0m             \u001b[0mmatriz\u001b[0m\u001b[1;33m[\u001b[0m\u001b[0mfila_2\u001b[0m\u001b[1;33m]\u001b[0m\u001b[1;33m[\u001b[0m\u001b[0mpos\u001b[0m\u001b[1;33m]\u001b[0m \u001b[1;33m=\u001b[0m \u001b[0maux\u001b[0m\u001b[1;33m\u001b[0m\u001b[1;33m\u001b[0m\u001b[0m\n\u001b[0;32m     34\u001b[0m             \u001b[0mpos\u001b[0m\u001b[1;33m+=\u001b[0m\u001b[1;36m1\u001b[0m\u001b[1;33m\u001b[0m\u001b[1;33m\u001b[0m\u001b[0m\n",
      "\u001b[1;31mIndexError\u001b[0m: list index out of range"
     ]
    }
   ],
   "source": [
    "fila_1 = 0; fila_2 = 1;\n",
    "\n",
    "for index_2 in range(len(cadena_2)):\n",
    "    \n",
    "    col_1 = 1; col_2 = 0;\n",
    "    pos = 1\n",
    "    for index_1 in range(len(cadena_1)):\n",
    "        \n",
    "        if(cadena_1[index_1]==cadena_2[index_2]):\n",
    "            aux = MAX(matriz[fila_1][col_1],matriz[fila_2][col_2])\n",
    "            \n",
    "            if( index_1>aux and index_2<aux):\n",
    "                if(pos<=len(cadena_1)):\n",
    "                    if(fila_2<=len(cadena_2)):\n",
    "                        matriz[fila_2][pos] = aux\n",
    "                        pos+=1\n",
    "            \n",
    "            elif (index_2>index_1 and index_1<aux):\n",
    "                if(pos<=len(cadena_1)):\n",
    "                    if(fila_2<=len(cadena_2)):\n",
    "                        matriz[fila_2][pos] = aux\n",
    "                        pos+=1\n",
    "            \n",
    "            else:\n",
    "                if(pos<=len(cadena_1)):\n",
    "                    if(fila_2<=len(cadena_2)):\n",
    "                        matriz[fila_2][pos] = aux+1\n",
    "                        pos+=1\n",
    "                    \n",
    "        else:\n",
    "            \n",
    "            aux = MAX(matriz[fila_1][col_1],matriz[fila_2][col_2])\n",
    "            matriz[fila_2][pos] = aux\n",
    "            pos+=1\n",
    "            \n",
    "        col_1+=1; col_2+=1\n",
    "        \n",
    "    fila_1+=1; fila_2+=1;\n",
    "                \n",
    "            "
   ]
  },
  {
   "cell_type": "code",
   "execution_count": null,
   "metadata": {},
   "outputs": [],
   "source": []
  }
 ],
 "metadata": {
  "kernelspec": {
   "display_name": "Python 3",
   "language": "python",
   "name": "python3"
  },
  "language_info": {
   "codemirror_mode": {
    "name": "ipython",
    "version": 3
   },
   "file_extension": ".py",
   "mimetype": "text/x-python",
   "name": "python",
   "nbconvert_exporter": "python",
   "pygments_lexer": "ipython3",
   "version": "3.7.1"
  }
 },
 "nbformat": 4,
 "nbformat_minor": 2
}
